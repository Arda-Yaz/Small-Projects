{
 "cells": [
  {
   "cell_type": "code",
   "execution_count": 1,
   "id": "909c04ab",
   "metadata": {
    "_cell_guid": "b1076dfc-b9ad-4769-8c92-a6c4dae69d19",
    "_uuid": "8f2839f25d086af736a60e9eeb907d3b93b6e0e5",
    "execution": {
     "iopub.execute_input": "2025-03-16T15:04:51.716103Z",
     "iopub.status.busy": "2025-03-16T15:04:51.715658Z",
     "iopub.status.idle": "2025-03-16T15:04:52.639171Z",
     "shell.execute_reply": "2025-03-16T15:04:52.638003Z"
    },
    "papermill": {
     "duration": 0.930372,
     "end_time": "2025-03-16T15:04:52.641164",
     "exception": false,
     "start_time": "2025-03-16T15:04:51.710792",
     "status": "completed"
    },
    "tags": []
   },
   "outputs": [
    {
     "name": "stdout",
     "output_type": "stream",
     "text": [
      "/kaggle/input/california-housing-prices/housing.csv\n"
     ]
    }
   ],
   "source": [
    "import numpy as np \n",
    "import pandas as pd \n",
    "\n",
    "import os\n",
    "for dirname, _, filenames in os.walk('/kaggle/input'):\n",
    "    for filename in filenames:\n",
    "        print(os.path.join(dirname, filename))"
   ]
  },
  {
   "cell_type": "code",
   "execution_count": 2,
   "id": "be8e661c",
   "metadata": {
    "execution": {
     "iopub.execute_input": "2025-03-16T15:04:52.649727Z",
     "iopub.status.busy": "2025-03-16T15:04:52.649218Z",
     "iopub.status.idle": "2025-03-16T15:04:52.739314Z",
     "shell.execute_reply": "2025-03-16T15:04:52.738127Z"
    },
    "papermill": {
     "duration": 0.096284,
     "end_time": "2025-03-16T15:04:52.741259",
     "exception": false,
     "start_time": "2025-03-16T15:04:52.644975",
     "status": "completed"
    },
    "tags": []
   },
   "outputs": [
    {
     "data": {
      "text/html": [
       "<div>\n",
       "<style scoped>\n",
       "    .dataframe tbody tr th:only-of-type {\n",
       "        vertical-align: middle;\n",
       "    }\n",
       "\n",
       "    .dataframe tbody tr th {\n",
       "        vertical-align: top;\n",
       "    }\n",
       "\n",
       "    .dataframe thead th {\n",
       "        text-align: right;\n",
       "    }\n",
       "</style>\n",
       "<table border=\"1\" class=\"dataframe\">\n",
       "  <thead>\n",
       "    <tr style=\"text-align: right;\">\n",
       "      <th></th>\n",
       "      <th>longitude</th>\n",
       "      <th>latitude</th>\n",
       "      <th>housing_median_age</th>\n",
       "      <th>total_rooms</th>\n",
       "      <th>total_bedrooms</th>\n",
       "      <th>population</th>\n",
       "      <th>households</th>\n",
       "      <th>median_income</th>\n",
       "      <th>median_house_value</th>\n",
       "      <th>ocean_proximity</th>\n",
       "    </tr>\n",
       "  </thead>\n",
       "  <tbody>\n",
       "    <tr>\n",
       "      <th>0</th>\n",
       "      <td>-122.23</td>\n",
       "      <td>37.88</td>\n",
       "      <td>41.0</td>\n",
       "      <td>880.0</td>\n",
       "      <td>129.0</td>\n",
       "      <td>322.0</td>\n",
       "      <td>126.0</td>\n",
       "      <td>8.3252</td>\n",
       "      <td>452600.0</td>\n",
       "      <td>NEAR BAY</td>\n",
       "    </tr>\n",
       "    <tr>\n",
       "      <th>1</th>\n",
       "      <td>-122.22</td>\n",
       "      <td>37.86</td>\n",
       "      <td>21.0</td>\n",
       "      <td>7099.0</td>\n",
       "      <td>1106.0</td>\n",
       "      <td>2401.0</td>\n",
       "      <td>1138.0</td>\n",
       "      <td>8.3014</td>\n",
       "      <td>358500.0</td>\n",
       "      <td>NEAR BAY</td>\n",
       "    </tr>\n",
       "    <tr>\n",
       "      <th>2</th>\n",
       "      <td>-122.24</td>\n",
       "      <td>37.85</td>\n",
       "      <td>52.0</td>\n",
       "      <td>1467.0</td>\n",
       "      <td>190.0</td>\n",
       "      <td>496.0</td>\n",
       "      <td>177.0</td>\n",
       "      <td>7.2574</td>\n",
       "      <td>352100.0</td>\n",
       "      <td>NEAR BAY</td>\n",
       "    </tr>\n",
       "    <tr>\n",
       "      <th>3</th>\n",
       "      <td>-122.25</td>\n",
       "      <td>37.85</td>\n",
       "      <td>52.0</td>\n",
       "      <td>1274.0</td>\n",
       "      <td>235.0</td>\n",
       "      <td>558.0</td>\n",
       "      <td>219.0</td>\n",
       "      <td>5.6431</td>\n",
       "      <td>341300.0</td>\n",
       "      <td>NEAR BAY</td>\n",
       "    </tr>\n",
       "    <tr>\n",
       "      <th>4</th>\n",
       "      <td>-122.25</td>\n",
       "      <td>37.85</td>\n",
       "      <td>52.0</td>\n",
       "      <td>1627.0</td>\n",
       "      <td>280.0</td>\n",
       "      <td>565.0</td>\n",
       "      <td>259.0</td>\n",
       "      <td>3.8462</td>\n",
       "      <td>342200.0</td>\n",
       "      <td>NEAR BAY</td>\n",
       "    </tr>\n",
       "    <tr>\n",
       "      <th>...</th>\n",
       "      <td>...</td>\n",
       "      <td>...</td>\n",
       "      <td>...</td>\n",
       "      <td>...</td>\n",
       "      <td>...</td>\n",
       "      <td>...</td>\n",
       "      <td>...</td>\n",
       "      <td>...</td>\n",
       "      <td>...</td>\n",
       "      <td>...</td>\n",
       "    </tr>\n",
       "    <tr>\n",
       "      <th>20635</th>\n",
       "      <td>-121.09</td>\n",
       "      <td>39.48</td>\n",
       "      <td>25.0</td>\n",
       "      <td>1665.0</td>\n",
       "      <td>374.0</td>\n",
       "      <td>845.0</td>\n",
       "      <td>330.0</td>\n",
       "      <td>1.5603</td>\n",
       "      <td>78100.0</td>\n",
       "      <td>INLAND</td>\n",
       "    </tr>\n",
       "    <tr>\n",
       "      <th>20636</th>\n",
       "      <td>-121.21</td>\n",
       "      <td>39.49</td>\n",
       "      <td>18.0</td>\n",
       "      <td>697.0</td>\n",
       "      <td>150.0</td>\n",
       "      <td>356.0</td>\n",
       "      <td>114.0</td>\n",
       "      <td>2.5568</td>\n",
       "      <td>77100.0</td>\n",
       "      <td>INLAND</td>\n",
       "    </tr>\n",
       "    <tr>\n",
       "      <th>20637</th>\n",
       "      <td>-121.22</td>\n",
       "      <td>39.43</td>\n",
       "      <td>17.0</td>\n",
       "      <td>2254.0</td>\n",
       "      <td>485.0</td>\n",
       "      <td>1007.0</td>\n",
       "      <td>433.0</td>\n",
       "      <td>1.7000</td>\n",
       "      <td>92300.0</td>\n",
       "      <td>INLAND</td>\n",
       "    </tr>\n",
       "    <tr>\n",
       "      <th>20638</th>\n",
       "      <td>-121.32</td>\n",
       "      <td>39.43</td>\n",
       "      <td>18.0</td>\n",
       "      <td>1860.0</td>\n",
       "      <td>409.0</td>\n",
       "      <td>741.0</td>\n",
       "      <td>349.0</td>\n",
       "      <td>1.8672</td>\n",
       "      <td>84700.0</td>\n",
       "      <td>INLAND</td>\n",
       "    </tr>\n",
       "    <tr>\n",
       "      <th>20639</th>\n",
       "      <td>-121.24</td>\n",
       "      <td>39.37</td>\n",
       "      <td>16.0</td>\n",
       "      <td>2785.0</td>\n",
       "      <td>616.0</td>\n",
       "      <td>1387.0</td>\n",
       "      <td>530.0</td>\n",
       "      <td>2.3886</td>\n",
       "      <td>89400.0</td>\n",
       "      <td>INLAND</td>\n",
       "    </tr>\n",
       "  </tbody>\n",
       "</table>\n",
       "<p>20640 rows × 10 columns</p>\n",
       "</div>"
      ],
      "text/plain": [
       "       longitude  latitude  housing_median_age  total_rooms  total_bedrooms  \\\n",
       "0        -122.23     37.88                41.0        880.0           129.0   \n",
       "1        -122.22     37.86                21.0       7099.0          1106.0   \n",
       "2        -122.24     37.85                52.0       1467.0           190.0   \n",
       "3        -122.25     37.85                52.0       1274.0           235.0   \n",
       "4        -122.25     37.85                52.0       1627.0           280.0   \n",
       "...          ...       ...                 ...          ...             ...   \n",
       "20635    -121.09     39.48                25.0       1665.0           374.0   \n",
       "20636    -121.21     39.49                18.0        697.0           150.0   \n",
       "20637    -121.22     39.43                17.0       2254.0           485.0   \n",
       "20638    -121.32     39.43                18.0       1860.0           409.0   \n",
       "20639    -121.24     39.37                16.0       2785.0           616.0   \n",
       "\n",
       "       population  households  median_income  median_house_value  \\\n",
       "0           322.0       126.0         8.3252            452600.0   \n",
       "1          2401.0      1138.0         8.3014            358500.0   \n",
       "2           496.0       177.0         7.2574            352100.0   \n",
       "3           558.0       219.0         5.6431            341300.0   \n",
       "4           565.0       259.0         3.8462            342200.0   \n",
       "...           ...         ...            ...                 ...   \n",
       "20635       845.0       330.0         1.5603             78100.0   \n",
       "20636       356.0       114.0         2.5568             77100.0   \n",
       "20637      1007.0       433.0         1.7000             92300.0   \n",
       "20638       741.0       349.0         1.8672             84700.0   \n",
       "20639      1387.0       530.0         2.3886             89400.0   \n",
       "\n",
       "      ocean_proximity  \n",
       "0            NEAR BAY  \n",
       "1            NEAR BAY  \n",
       "2            NEAR BAY  \n",
       "3            NEAR BAY  \n",
       "4            NEAR BAY  \n",
       "...               ...  \n",
       "20635          INLAND  \n",
       "20636          INLAND  \n",
       "20637          INLAND  \n",
       "20638          INLAND  \n",
       "20639          INLAND  \n",
       "\n",
       "[20640 rows x 10 columns]"
      ]
     },
     "execution_count": 2,
     "metadata": {},
     "output_type": "execute_result"
    }
   ],
   "source": [
    "data = pd.read_csv(\"/kaggle/input/california-housing-prices/housing.csv\")\n",
    "data"
   ]
  },
  {
   "cell_type": "code",
   "execution_count": 3,
   "id": "bc92c7f1",
   "metadata": {
    "execution": {
     "iopub.execute_input": "2025-03-16T15:04:52.750638Z",
     "iopub.status.busy": "2025-03-16T15:04:52.750293Z",
     "iopub.status.idle": "2025-03-16T15:04:52.762160Z",
     "shell.execute_reply": "2025-03-16T15:04:52.761170Z"
    },
    "papermill": {
     "duration": 0.018631,
     "end_time": "2025-03-16T15:04:52.763822",
     "exception": false,
     "start_time": "2025-03-16T15:04:52.745191",
     "status": "completed"
    },
    "tags": []
   },
   "outputs": [
    {
     "data": {
      "text/plain": [
       "longitude               0\n",
       "latitude                0\n",
       "housing_median_age      0\n",
       "total_rooms             0\n",
       "total_bedrooms        207\n",
       "population              0\n",
       "households              0\n",
       "median_income           0\n",
       "median_house_value      0\n",
       "ocean_proximity         0\n",
       "dtype: int64"
      ]
     },
     "execution_count": 3,
     "metadata": {},
     "output_type": "execute_result"
    }
   ],
   "source": [
    "data.isnull().sum()"
   ]
  },
  {
   "cell_type": "code",
   "execution_count": 4,
   "id": "b8613f88",
   "metadata": {
    "execution": {
     "iopub.execute_input": "2025-03-16T15:04:52.772601Z",
     "iopub.status.busy": "2025-03-16T15:04:52.772272Z",
     "iopub.status.idle": "2025-03-16T15:04:52.782848Z",
     "shell.execute_reply": "2025-03-16T15:04:52.781812Z"
    },
    "papermill": {
     "duration": 0.016831,
     "end_time": "2025-03-16T15:04:52.784554",
     "exception": false,
     "start_time": "2025-03-16T15:04:52.767723",
     "status": "completed"
    },
    "tags": []
   },
   "outputs": [],
   "source": [
    "data.fillna({\"total_bedrooms\":data[\"total_bedrooms\"].mode()[0]}, inplace = True)"
   ]
  },
  {
   "cell_type": "code",
   "execution_count": 5,
   "id": "446721de",
   "metadata": {
    "execution": {
     "iopub.execute_input": "2025-03-16T15:04:52.793476Z",
     "iopub.status.busy": "2025-03-16T15:04:52.793156Z",
     "iopub.status.idle": "2025-03-16T15:04:52.802862Z",
     "shell.execute_reply": "2025-03-16T15:04:52.801930Z"
    },
    "papermill": {
     "duration": 0.015938,
     "end_time": "2025-03-16T15:04:52.804435",
     "exception": false,
     "start_time": "2025-03-16T15:04:52.788497",
     "status": "completed"
    },
    "tags": []
   },
   "outputs": [
    {
     "data": {
      "text/plain": [
       "longitude             0\n",
       "latitude              0\n",
       "housing_median_age    0\n",
       "total_rooms           0\n",
       "total_bedrooms        0\n",
       "population            0\n",
       "households            0\n",
       "median_income         0\n",
       "median_house_value    0\n",
       "ocean_proximity       0\n",
       "dtype: int64"
      ]
     },
     "execution_count": 5,
     "metadata": {},
     "output_type": "execute_result"
    }
   ],
   "source": [
    "data.isnull().sum()"
   ]
  },
  {
   "cell_type": "code",
   "execution_count": 6,
   "id": "fb9cf1e4",
   "metadata": {
    "execution": {
     "iopub.execute_input": "2025-03-16T15:04:52.813667Z",
     "iopub.status.busy": "2025-03-16T15:04:52.813321Z",
     "iopub.status.idle": "2025-03-16T15:04:52.821625Z",
     "shell.execute_reply": "2025-03-16T15:04:52.820615Z"
    },
    "papermill": {
     "duration": 0.014789,
     "end_time": "2025-03-16T15:04:52.823329",
     "exception": false,
     "start_time": "2025-03-16T15:04:52.808540",
     "status": "completed"
    },
    "tags": []
   },
   "outputs": [],
   "source": [
    "data[\"ocean_proximity\"] = data[\"ocean_proximity\"].map({\"<1H OCEAN\": 0, \"INLAND\":1, \"NEAR OCEAN\": 2, \"NEAR BAY\": 3, \"ISLAND\":4})"
   ]
  },
  {
   "cell_type": "code",
   "execution_count": 7,
   "id": "59d5cf09",
   "metadata": {
    "execution": {
     "iopub.execute_input": "2025-03-16T15:04:52.832593Z",
     "iopub.status.busy": "2025-03-16T15:04:52.832275Z",
     "iopub.status.idle": "2025-03-16T15:04:52.838089Z",
     "shell.execute_reply": "2025-03-16T15:04:52.837115Z"
    },
    "papermill": {
     "duration": 0.012541,
     "end_time": "2025-03-16T15:04:52.839931",
     "exception": false,
     "start_time": "2025-03-16T15:04:52.827390",
     "status": "completed"
    },
    "tags": []
   },
   "outputs": [],
   "source": [
    "X = data.drop(\"median_house_value\", axis = 1)\n",
    "y = data[\"median_house_value\"]"
   ]
  },
  {
   "cell_type": "code",
   "execution_count": 8,
   "id": "492b5373",
   "metadata": {
    "execution": {
     "iopub.execute_input": "2025-03-16T15:04:52.849517Z",
     "iopub.status.busy": "2025-03-16T15:04:52.849168Z",
     "iopub.status.idle": "2025-03-16T15:04:54.319890Z",
     "shell.execute_reply": "2025-03-16T15:04:54.318838Z"
    },
    "papermill": {
     "duration": 1.477876,
     "end_time": "2025-03-16T15:04:54.321961",
     "exception": false,
     "start_time": "2025-03-16T15:04:52.844085",
     "status": "completed"
    },
    "tags": []
   },
   "outputs": [],
   "source": [
    "from sklearn.model_selection import train_test_split\n",
    "X_train,X_test, y_train, y_test = train_test_split(X,y, random_state = 41, test_size = 0.2)"
   ]
  },
  {
   "cell_type": "code",
   "execution_count": 9,
   "id": "7b124bf0",
   "metadata": {
    "execution": {
     "iopub.execute_input": "2025-03-16T15:04:54.331525Z",
     "iopub.status.busy": "2025-03-16T15:04:54.331059Z",
     "iopub.status.idle": "2025-03-16T15:04:54.764632Z",
     "shell.execute_reply": "2025-03-16T15:04:54.763643Z"
    },
    "papermill": {
     "duration": 0.440332,
     "end_time": "2025-03-16T15:04:54.766475",
     "exception": false,
     "start_time": "2025-03-16T15:04:54.326143",
     "status": "completed"
    },
    "tags": []
   },
   "outputs": [],
   "source": [
    "from sklearn.metrics import mean_squared_error, r2_score\n",
    "from sklearn.linear_model import LinearRegression, Ridge, Lasso\n",
    "from sklearn.ensemble import RandomForestRegressor, GradientBoostingRegressor\n",
    "from sklearn.neighbors import KNeighborsRegressor\n",
    "from sklearn.tree import DecisionTreeRegressor\n",
    "from sklearn.model_selection import GridSearchCV"
   ]
  },
  {
   "cell_type": "code",
   "execution_count": 10,
   "id": "5eb1393a",
   "metadata": {
    "execution": {
     "iopub.execute_input": "2025-03-16T15:04:54.775666Z",
     "iopub.status.busy": "2025-03-16T15:04:54.775337Z",
     "iopub.status.idle": "2025-03-16T15:04:54.781543Z",
     "shell.execute_reply": "2025-03-16T15:04:54.780464Z"
    },
    "papermill": {
     "duration": 0.01276,
     "end_time": "2025-03-16T15:04:54.783306",
     "exception": false,
     "start_time": "2025-03-16T15:04:54.770546",
     "status": "completed"
    },
    "tags": []
   },
   "outputs": [],
   "source": [
    "models = {\n",
    "    \"LinearRegression\": (LinearRegression(), {}),\n",
    "    \"Ridge\": (Ridge(), {\"alpha\": [0.1, 1, 10, 100]}),\n",
    "    \"Lasso\": (Lasso(), {\"alpha\": [0.01, 0.1, 1, 10]}),\n",
    "    \"RandomForestRegressor\": (RandomForestRegressor(), {\"n_estimators\": [10, 50, 100], \"max_depth\": [None, 10, 20]}),\n",
    "    \"GradientBoostingRegressor\": (GradientBoostingRegressor(), {\"n_estimators\": [50, 100], \"learning_rate\": [0.01, 0.1, 0.2]}),\n",
    "    \"KNeighborsRegressor\": (KNeighborsRegressor(), {\"n_neighbors\": [3, 5, 7], \"weights\": [\"uniform\", \"distance\"]}),\n",
    "    \"DecisionTreeRegressor\": (DecisionTreeRegressor(), {\"max_depth\": [None, 5, 10, 20]})\n",
    "}"
   ]
  },
  {
   "cell_type": "code",
   "execution_count": 11,
   "id": "fcab597c",
   "metadata": {
    "execution": {
     "iopub.execute_input": "2025-03-16T15:04:54.792843Z",
     "iopub.status.busy": "2025-03-16T15:04:54.792432Z",
     "iopub.status.idle": "2025-03-16T15:06:59.406658Z",
     "shell.execute_reply": "2025-03-16T15:06:59.405140Z"
    },
    "papermill": {
     "duration": 124.62116,
     "end_time": "2025-03-16T15:06:59.408657",
     "exception": false,
     "start_time": "2025-03-16T15:04:54.787497",
     "status": "completed"
    },
    "tags": []
   },
   "outputs": [
    {
     "name": "stdout",
     "output_type": "stream",
     "text": [
      "Fitting 5 folds for each of 1 candidates, totalling 5 fits\n",
      "LinearRegression: Best Params: {}, MSE: 4850094323.2341, R²: 0.6312\n",
      "Fitting 5 folds for each of 4 candidates, totalling 20 fits\n",
      "Ridge: Best Params: {'alpha': 10}, MSE: 4849822551.3616, R²: 0.6313\n",
      "Fitting 5 folds for each of 4 candidates, totalling 20 fits\n",
      "Lasso: Best Params: {'alpha': 10}, MSE: 4849959482.1183, R²: 0.6313\n",
      "Fitting 5 folds for each of 9 candidates, totalling 45 fits\n",
      "RandomForestRegressor: Best Params: {'max_depth': None, 'n_estimators': 100}, MSE: 2262066266.5413, R²: 0.8280\n",
      "Fitting 5 folds for each of 6 candidates, totalling 30 fits\n",
      "GradientBoostingRegressor: Best Params: {'learning_rate': 0.2, 'n_estimators': 100}, MSE: 2584414012.5840, R²: 0.8035\n",
      "Fitting 5 folds for each of 6 candidates, totalling 30 fits\n",
      "KNeighborsRegressor: Best Params: {'n_neighbors': 7, 'weights': 'distance'}, MSE: 9232886036.2322, R²: 0.2980\n",
      "Fitting 5 folds for each of 4 candidates, totalling 20 fits\n",
      "DecisionTreeRegressor: Best Params: {'max_depth': 10}, MSE: 3566757172.1045, R²: 0.7288\n"
     ]
    }
   ],
   "source": [
    "best_models = {}\n",
    "for name, (model, param_grid) in models.items():\n",
    "    grid_search = GridSearchCV(model, param_grid, cv=5, scoring='r2', n_jobs=-1,verbose=3)\n",
    "    grid_search.fit(X_train, y_train)\n",
    "    \n",
    "    best_model = grid_search.best_estimator_\n",
    "    y_pred = best_model.predict(X_test)\n",
    "    \n",
    "    mse = mean_squared_error(y_test, y_pred)\n",
    "    r2 = r2_score(y_test, y_pred)\n",
    "    \n",
    "    best_models[name] = (best_model, mse, r2)\n",
    "    \n",
    "    print(f\"{name}: Best Params: {grid_search.best_params_}, MSE: {mse:.4f}, R²: {r2:.4f}\")"
   ]
  },
  {
   "cell_type": "code",
   "execution_count": 12,
   "id": "a0c3eaa1",
   "metadata": {
    "execution": {
     "iopub.execute_input": "2025-03-16T15:06:59.419529Z",
     "iopub.status.busy": "2025-03-16T15:06:59.419139Z",
     "iopub.status.idle": "2025-03-16T15:06:59.424847Z",
     "shell.execute_reply": "2025-03-16T15:06:59.423764Z"
    },
    "papermill": {
     "duration": 0.013071,
     "end_time": "2025-03-16T15:06:59.426487",
     "exception": false,
     "start_time": "2025-03-16T15:06:59.413416",
     "status": "completed"
    },
    "tags": []
   },
   "outputs": [
    {
     "name": "stdout",
     "output_type": "stream",
     "text": [
      "\n",
      "Best Model: RandomForestRegressor with R²: 0.8280\n"
     ]
    }
   ],
   "source": [
    "best_model_name = max(best_models, key=lambda k: best_models[k][2])\n",
    "print(f\"\\nBest Model: {best_model_name} with R²: {best_models[best_model_name][2]:.4f}\")"
   ]
  },
  {
   "cell_type": "code",
   "execution_count": null,
   "id": "e3dc18c3",
   "metadata": {
    "papermill": {
     "duration": 0.004264,
     "end_time": "2025-03-16T15:06:59.435419",
     "exception": false,
     "start_time": "2025-03-16T15:06:59.431155",
     "status": "completed"
    },
    "tags": []
   },
   "outputs": [],
   "source": []
  }
 ],
 "metadata": {
  "kaggle": {
   "accelerator": "none",
   "dataSources": [
    {
     "datasetId": 5227,
     "sourceId": 7876,
     "sourceType": "datasetVersion"
    }
   ],
   "dockerImageVersionId": 30918,
   "isGpuEnabled": false,
   "isInternetEnabled": false,
   "language": "python",
   "sourceType": "notebook"
  },
  "kernelspec": {
   "display_name": "Python 3",
   "language": "python",
   "name": "python3"
  },
  "language_info": {
   "codemirror_mode": {
    "name": "ipython",
    "version": 3
   },
   "file_extension": ".py",
   "mimetype": "text/x-python",
   "name": "python",
   "nbconvert_exporter": "python",
   "pygments_lexer": "ipython3",
   "version": "3.10.12"
  },
  "papermill": {
   "default_parameters": {},
   "duration": 131.377552,
   "end_time": "2025-03-16T15:07:00.261916",
   "environment_variables": {},
   "exception": null,
   "input_path": "__notebook__.ipynb",
   "output_path": "__notebook__.ipynb",
   "parameters": {},
   "start_time": "2025-03-16T15:04:48.884364",
   "version": "2.6.0"
  }
 },
 "nbformat": 4,
 "nbformat_minor": 5
}
